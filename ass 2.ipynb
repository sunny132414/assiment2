{
 "cells": [
  {
   "cell_type": "code",
   "execution_count": 7,
   "id": "9d2d5ca8-3dcc-4ecd-b28b-8745b8b20ce2",
   "metadata": {},
   "outputs": [],
   "source": [
    "#Q1= How do you comment code in Python? What are the different types of comments?"
   ]
  },
  {
   "cell_type": "code",
   "execution_count": 4,
   "id": "bda79a56-f8d0-4855-9a03-e40acbcc36d2",
   "metadata": {},
   "outputs": [
    {
     "name": "stdout",
     "output_type": "stream",
     "text": [
      "hello world\n"
     ]
    }
   ],
   "source": [
    "\"\"\"In Python, We can add comments to our code to make it more readable and to explain certain sections or lines of code:\n",
    "There are two types of comments in Python= single-line comments and multi line comments: \n",
    "Single-line comments= Single-line comments start with a hash symbol (#) and continue until the end of the line. Anything after the hash symbol is ignored by the Python interpreter:\n",
    "Multi-line comments= Multi-line comments are used when we want to add comments that spancross multiple lines. Python does not have a built-in syntax for multi-line comments like some other programming languages. However, we can use triple quotes (either single or double) to achieve the same effect:\"\"\" \n",
    "print(\"hello world\")\n"
   ]
  },
  {
   "cell_type": "code",
   "execution_count": 2,
   "id": "a9a399d3-b17d-4e47-8f68-b188ef9264a2",
   "metadata": {},
   "outputs": [],
   "source": [
    "#Q2= What are variables in Python? How do you declare and assign values to variables?"
   ]
  },
  {
   "cell_type": "code",
   "execution_count": 13,
   "id": "741e89e8-b1be-4c3e-88fd-2871f28dd5ec",
   "metadata": {},
   "outputs": [],
   "source": [
    "Ans=\"\"\"In Python, variables are used to store data values. They act as named containers that hold references to objects. Variables allow you to store and manipulate data in your programs.\n",
    "\n",
    "To declare a variable in Python, we simply choose a name for the variable and use the assignment operator (=) to assign a value to it.\"\"\"\n",
    "#example\n",
    "a=2\n",
    "b=\"sunny\""
   ]
  },
  {
   "cell_type": "code",
   "execution_count": 3,
   "id": "581397b1-916b-417d-be8b-b6b8ee192a0f",
   "metadata": {},
   "outputs": [],
   "source": [
    "#Q3= How do you convert one data type to another in Python?"
   ]
  },
  {
   "cell_type": "code",
   "execution_count": 12,
   "id": "c865607a-632d-4062-9c42-0522b72a1677",
   "metadata": {},
   "outputs": [],
   "source": [
    "#In Python, we can convert one data type to another using type conversion functions or by using the target data type as a constructor."
   ]
  },
  {
   "cell_type": "code",
   "execution_count": 11,
   "id": "6599c5cb-e595-42bb-9003-e198a96e582e",
   "metadata": {},
   "outputs": [
    {
     "name": "stdout",
     "output_type": "stream",
     "text": [
      "4\n"
     ]
    }
   ],
   "source": [
    "a=4\n",
    "print(a)"
   ]
  },
  {
   "cell_type": "code",
   "execution_count": 9,
   "id": "f966736e-b232-40a4-8365-cca2167299cb",
   "metadata": {},
   "outputs": [
    {
     "data": {
      "text/plain": [
       "4.0"
      ]
     },
     "execution_count": 9,
     "metadata": {},
     "output_type": "execute_result"
    }
   ],
   "source": [
    "float(a)"
   ]
  },
  {
   "cell_type": "code",
   "execution_count": 14,
   "id": "a64f0b13-c333-4beb-868d-d3158f5a1103",
   "metadata": {},
   "outputs": [],
   "source": [
    "#Q4= How do you write and execute a Python script from the command line"
   ]
  },
  {
   "cell_type": "code",
   "execution_count": 15,
   "id": "2148119d-73d4-4408-b01d-36d1c856d0df",
   "metadata": {},
   "outputs": [],
   "source": [
    "Ans=\"\"\"step1 Open a text editor and write your Python script.\n",
    "step2 Save the file with a .py extension\n",
    "step3 Open a command line interface\n",
    "step4 Navigate to the directory where  Python script is located. Use the cd command to change directories\n",
    "step5 Once we're in the correct directory, we can execute the Python script using the python command followed by the script's filename.\"\"\""
   ]
  },
  {
   "cell_type": "code",
   "execution_count": 16,
   "id": "c57d6efa-305f-499a-b3d2-10fe87524234",
   "metadata": {},
   "outputs": [],
   "source": [
    "#Q5=. Given a list my_list = [1, 2, 3, 4, 5], write the code to slice the list and obtain the sub-list [2, 3]."
   ]
  },
  {
   "cell_type": "code",
   "execution_count": 17,
   "id": "9a4e6c6e-6e24-478f-89e6-64e4408fd1bb",
   "metadata": {},
   "outputs": [],
   "source": [
    "my_list=[1,2,3,4,5]"
   ]
  },
  {
   "cell_type": "code",
   "execution_count": 19,
   "id": "6be369ba-4489-4f44-87a6-885738723c78",
   "metadata": {},
   "outputs": [
    {
     "data": {
      "text/plain": [
       "[1, 2, 3, 4, 5]"
      ]
     },
     "execution_count": 19,
     "metadata": {},
     "output_type": "execute_result"
    }
   ],
   "source": [
    "my_list"
   ]
  },
  {
   "cell_type": "code",
   "execution_count": 22,
   "id": "0d285bc4-aea0-4ae5-831f-45e2d1cae741",
   "metadata": {},
   "outputs": [
    {
     "data": {
      "text/plain": [
       "[2, 3]"
      ]
     },
     "execution_count": 22,
     "metadata": {},
     "output_type": "execute_result"
    }
   ],
   "source": [
    "my_list[1:3]"
   ]
  },
  {
   "cell_type": "code",
   "execution_count": 23,
   "id": "c6da8496-cb0d-43be-bc2f-77a21510a3ef",
   "metadata": {},
   "outputs": [],
   "source": [
    "#Q5= What is a complex number in mathematics, and how is it represented in Python"
   ]
  },
  {
   "cell_type": "code",
   "execution_count": 24,
   "id": "52be72fc-212f-4eb8-ae34-75aeab415096",
   "metadata": {},
   "outputs": [
    {
     "data": {
      "text/plain": [
       "complex"
      ]
     },
     "execution_count": 24,
     "metadata": {},
     "output_type": "execute_result"
    }
   ],
   "source": [
    "\"\"\"complex number in mathematics.\n",
    "2+4i, 2 is real number and 4i is  imagnary number.\"\"\"\n",
    "#complex number in python.\n",
    "a=3+5j\n",
    "type(a)\n"
   ]
  },
  {
   "cell_type": "code",
   "execution_count": 25,
   "id": "a8b6714a-5088-4e26-b623-7dd3b6933931",
   "metadata": {},
   "outputs": [
    {
     "data": {
      "text/plain": [
       "3.0"
      ]
     },
     "execution_count": 25,
     "metadata": {},
     "output_type": "execute_result"
    }
   ],
   "source": [
    "a.real"
   ]
  },
  {
   "cell_type": "code",
   "execution_count": 26,
   "id": "0e0674aa-757a-42c9-a98a-bfebf3d6c689",
   "metadata": {},
   "outputs": [
    {
     "data": {
      "text/plain": [
       "5.0"
      ]
     },
     "execution_count": 26,
     "metadata": {},
     "output_type": "execute_result"
    }
   ],
   "source": [
    "a.imag"
   ]
  },
  {
   "cell_type": "code",
   "execution_count": 27,
   "id": "4dc7400b-6616-4969-a710-ef55ab89f88b",
   "metadata": {},
   "outputs": [],
   "source": [
    "#Q7= What is the correct way to declare a variable named age and assign the value 25 to it?"
   ]
  },
  {
   "cell_type": "code",
   "execution_count": 28,
   "id": "c9523f15-6c56-436f-856e-dc87988bf855",
   "metadata": {},
   "outputs": [],
   "source": [
    "age=25"
   ]
  },
  {
   "cell_type": "code",
   "execution_count": 32,
   "id": "5a0c8489-e021-4c4f-9167-5802101f5e28",
   "metadata": {},
   "outputs": [
    {
     "data": {
      "text/plain": [
       "float"
      ]
     },
     "execution_count": 32,
     "metadata": {},
     "output_type": "execute_result"
    }
   ],
   "source": [
    "\"\"\"Q8= Declare a variable named price and assign the value 9.99 to it. What data type does this variable\n",
    "belong to?\"\"\"\n",
    "#Ans\n",
    "price=9.99\n",
    "type(price)"
   ]
  },
  {
   "cell_type": "code",
   "execution_count": 33,
   "id": "8b4c5f3f-9da8-4ccb-ae2d-983949830d19",
   "metadata": {},
   "outputs": [
    {
     "name": "stdout",
     "output_type": "stream",
     "text": [
      "sunny choudhary\n"
     ]
    }
   ],
   "source": [
    "\"\"\"Q9=. Create a variable named name and assign your full name to it as a string. How would you print the\n",
    "value of this variable?\"\"\"\n",
    "#Ans\n",
    "name=\"sunny choudhary\"\n",
    "print(name)"
   ]
  },
  {
   "cell_type": "code",
   "execution_count": 34,
   "id": "bbdddc39-bdcd-4482-87bd-8e474f4cdd1d",
   "metadata": {},
   "outputs": [],
   "source": [
    "#Q10= Given the string \"Hello, World!\", extract the substring \"World\"."
   ]
  },
  {
   "cell_type": "code",
   "execution_count": 35,
   "id": "9174d0f6-ad08-41a4-aabd-0907b195c9c2",
   "metadata": {},
   "outputs": [],
   "source": [
    "str=\"Hello, World\""
   ]
  },
  {
   "cell_type": "code",
   "execution_count": 40,
   "id": "7d0f00c5-b384-4fd0-a196-4ec3505d8040",
   "metadata": {},
   "outputs": [
    {
     "data": {
      "text/plain": [
       "'World'"
      ]
     },
     "execution_count": 40,
     "metadata": {},
     "output_type": "execute_result"
    }
   ],
   "source": [
    "str[7:12]"
   ]
  },
  {
   "cell_type": "code",
   "execution_count": 43,
   "id": "cd5d6009-a42f-41e9-89fe-88d926e37d16",
   "metadata": {},
   "outputs": [],
   "source": [
    "\"\"\"Q11= Create a variable named \"is_student\" and assign it a boolean value indicating whether you are\n",
    "currently a student or not.\"\"\"\n",
    "#Ans=\n",
    "is_student=True # currently a student\n",
    "is_student=False # currently not a student"
   ]
  },
  {
   "cell_type": "code",
   "execution_count": null,
   "id": "4fc92e3c-b26a-42bb-9624-ab899d4e9b04",
   "metadata": {},
   "outputs": [],
   "source": []
  }
 ],
 "metadata": {
  "kernelspec": {
   "display_name": "Python 3 (ipykernel)",
   "language": "python",
   "name": "python3"
  },
  "language_info": {
   "codemirror_mode": {
    "name": "ipython",
    "version": 3
   },
   "file_extension": ".py",
   "mimetype": "text/x-python",
   "name": "python",
   "nbconvert_exporter": "python",
   "pygments_lexer": "ipython3",
   "version": "3.10.8"
  }
 },
 "nbformat": 4,
 "nbformat_minor": 5
}
